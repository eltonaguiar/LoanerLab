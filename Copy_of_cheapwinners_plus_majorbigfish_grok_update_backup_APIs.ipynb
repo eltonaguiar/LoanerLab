{
  "nbformat": 4,
  "nbformat_minor": 0,
  "metadata": {
    "colab": {
      "provenance": [],
      "authorship_tag": "ABX9TyPf2fBMQRY+9OzUtUN43PQz",
      "include_colab_link": true
    },
    "kernelspec": {
      "name": "python3",
      "display_name": "Python 3"
    },
    "language_info": {
      "name": "python"
    }
  },
  "cells": [
    {
      "cell_type": "markdown",
      "metadata": {
        "id": "view-in-github",
        "colab_type": "text"
      },
      "source": [
        "<a href=\"https://colab.research.google.com/github/eltonaguiar/LoanerLab/blob/main/Copy_of_cheapwinners_plus_majorbigfish_grok_update_backup_APIs.ipynb\" target=\"_parent\"><img src=\"https://colab.research.google.com/assets/colab-badge.svg\" alt=\"Open In Colab\"/></a>"
      ]
    },
    {
      "cell_type": "code",
      "source": [
        "from google.colab import userdata\n",
        "\n",
        "try:\n",
        "    alpha_vantage_key = userdata.get('ALPHA_VANTAGE_KEY')\n",
        "    print(\"ALPHA_VANTAGE key retrieved successfully:\", alpha_vantage_key)\n",
        "except Exception as e:\n",
        "    print(\"Error accessing ALPHA_VANTAGE:\", str(e))\n",
        "\n",
        "# Test other keys\n",
        "try:\n",
        "    tiingo_key = userdata.get('TIINGO_KEY')\n",
        "    print(\"TIINGO_KEY retrieved successfully:\", tiingo_key)\n",
        "except Exception as e:\n",
        "    print(\"Error accessing TIINGO_KEY:\", str(e))"
      ],
      "metadata": {
        "colab": {
          "base_uri": "https://localhost:8080/"
        },
        "id": "2DyUI1vjUOd5",
        "outputId": "00a8a91c-a45f-4bb7-af67-524b7c478565"
      },
      "execution_count": 4,
      "outputs": [
        {
          "output_type": "stream",
          "name": "stdout",
          "text": [
            "ALPHA_VANTAGE key retrieved successfully: SKYZQAMZHNXFBKDL\n",
            "TIINGO_KEY retrieved successfully: 2247aa4e93338de698597f58f44136f08e17694d\n"
          ]
        }
      ]
    },
    {
      "cell_type": "code",
      "execution_count": 1,
      "metadata": {
        "colab": {
          "base_uri": "https://localhost:8080/"
        },
        "id": "x3v_GN2LNHhK",
        "outputId": "662d32b9-d74e-467b-dc2e-e1c6034c277c"
      },
      "outputs": [
        {
          "output_type": "stream",
          "name": "stdout",
          "text": [
            "Collecting python-dotenv\n",
            "  Downloading python_dotenv-1.1.0-py3-none-any.whl.metadata (24 kB)\n",
            "Downloading python_dotenv-1.1.0-py3-none-any.whl (20 kB)\n",
            "Installing collected packages: python-dotenv\n",
            "Successfully installed python-dotenv-1.1.0\n"
          ]
        }
      ],
      "source": [
        "pip install python-dotenv\n"
      ]
    },
    {
      "cell_type": "code",
      "source": [
        "# Add import for Google Colab secrets\n",
        "try:\n",
        "    from google.colab import userdata\n",
        "except ImportError:\n",
        "    # Fallback for non-Colab environments\n",
        "    import os\n",
        "    userdata = None\n",
        "\n",
        "# Config\n",
        "# Load API keys from Colab Secrets if running in Colab, otherwise fallback to environment variables\n",
        "def get_secret_or_env(secret_name, env_name):\n",
        "    try:\n",
        "        if userdata:\n",
        "            return userdata.get(secret_name)\n",
        "        return os.getenv(env_name, 'your_key_here')\n",
        "    except Exception as e:\n",
        "        logging.error(f\"Failed to load {secret_name}: {str(e)}\")\n",
        "        return 'your_key_here'\n",
        "\n",
        "CONFIG = {\n",
        "    'ALPHA_VANTAGE_KEY': get_secret_or_env('ALPHA_VANTAGE_KEY', 'ALPHA_VANTAGE'),\n",
        "    'TIINGO_KEY': get_secret_or_env('TIINGO_KEY', 'TIINGO_KEY'),\n",
        "    'FINNHUB_KEY': get_secret_or_env('FINNHUB_KEY', 'FINNHUB_KEY'),\n",
        "    'POLYGON_KEY': get_secret_or_env('POLYGON_KEY', 'POLYGON_KEY'),\n",
        "    'MARKETSTACK_KEY': get_secret_or_env('MARKETSTACK_KEY', 'MARKETSTACK'),\n",
        "    'QUANDL_KEY': get_secret_or_env('QUANDL_KEY', 'QUANDL_KEY'),\n",
        "    'FRED_KEY': get_secret_or_env('FRED_KEY', 'FRED_KEY'),\n",
        "    'STOCK_API_PROVIDER': 'alpha_vantage',\n",
        "    'RISK_FREE_RATE': 0.05,\n",
        "    'MAX_HISTORY_DAYS': 90,\n",
        "    'STOCK_API_CALLS_PER_MINUTE': 5,\n",
        "    'TARGET_STOCKS': 15,\n",
        "    'MAX_PRICE_THRESHOLD': 8.0,\n",
        "    'PREDICTION_HORIZONS': {\n",
        "        'hours': 6,\n",
        "        'days': 3,\n",
        "        'weeks': 2\n",
        "    }\n",
        "}\n",
        "\n",
        "# Validate that API keys are properly loaded\n",
        "def validate_api_keys():\n",
        "    missing_keys = []\n",
        "    for key_name, key_value in CONFIG.items():\n",
        "        if 'KEY' in key_name and (key_value is None or key_value == 'your_key_here'):\n",
        "            missing_keys.append(key_name)\n",
        "    if missing_keys:\n",
        "        logging.warning(f\"Missing or invalid API keys: {missing_keys}\")\n",
        "        print(f\"⚠️ Warning: The following API keys are missing or invalid: {missing_keys}\")\n",
        "        print(\"Please ensure they are correctly set in Colab Secrets (case-sensitive) or environment variables.\")\n",
        "    else:\n",
        "        print(\"✅ All API keys loaded successfully.\")\n",
        "\n",
        "# Rest of your imports\n",
        "import logging\n",
        "import time\n",
        "import argparse\n",
        "import pandas as pd\n",
        "import numpy as np\n",
        "from datetime import datetime, timedelta\n",
        "from typing import Dict, List, Optional\n",
        "from scipy import stats\n",
        "import yfinance as yf\n",
        "import requests\n",
        "from sklearn.linear_model import LinearRegression\n",
        "\n",
        "# Rate limiting\n",
        "def rate_limit_api_calls():\n",
        "    \"\"\"Implement rate limiting for API calls\"\"\"\n",
        "    time.sleep(60 / CONFIG['STOCK_API_CALLS_PER_MINUTE'])\n",
        "\n",
        "# API failure tracker\n",
        "API_FAIL_TRACKER = {\n",
        "    'total_failures': 0,\n",
        "    'symbols_failed': set()\n",
        "}\n",
        "\n",
        "# get_us_market_stocks\n",
        "def get_us_market_stocks() -> List[str]:\n",
        "    logging.info(\"Fetching list of US market stocks...\")\n",
        "    fallback_stocks = [\n",
        "        \"RVYL\", \"OTRK\", \"IDN\", \"TUYA\", \"AIRG\", \"SNDL\", \"CPRX\", \"FCEL\", \"NAK\",\n",
        "        \"CIDM\", \"GSAT\", \"SOLO\", \"IDEX\", \"GEVO\", \"ONTX\",\n",
        "        \"AAPL\", \"TSLA\", \"NVDA\", \"AMZN\", \"GOOGL\", \"MSFT\", \"META\", \"AMD\", \"XOM\",\n",
        "        \"JNJ\", \"JPM\", \"BLK\", \"DAL\",\n",
        "        \"COUR\", \"GHG\", \"HGBL\", \"HPE\", \"DTCK\", \"IQ\", \"LFST\", \"NGD\", \"PTON\", \"PAYO\",\n",
        "        \"EMX\", \"TARA\", \"TGB\", \"MASS\", \"BLDE\", \"BZUN\", \"CRDF\", \"PLBY\", \"PRCH\",\n",
        "        \"CVRX\", \"NEOG\", \"CRVO\", \"DYN\", \"VREX\", \"HPK\", \"NTIC\", \"RGNX\", \"SUNS\",\n",
        "        \"LUNG\", \"ZYME\", \"RDFN\", \"FOLD\", \"IVR\", \"BOOM\", \"MAZE\", \"ALMS\", \"DEA\",\n",
        "        \"NRIX\", \"CRGY\"\n",
        "    ]\n",
        "    return list(set(fallback_stocks))\n",
        "\n",
        "# get_stock_data\n",
        "def get_stock_data(symbol: str, days: int = 90) -> Optional[pd.DataFrame]:\n",
        "    logging.info(f\"Fetching data for {symbol} (past {days} days)...\")\n",
        "    end_date = datetime.now()\n",
        "    start_date = end_date - timedelta(days=days)\n",
        "\n",
        "    api_providers = [\n",
        "        ('alpha_vantage', CONFIG['ALPHA_VANTAGE_KEY'], lambda: fetch_alpha_vantage(symbol, start_date, end_date)),\n",
        "        ('tiingo', CONFIG['TIINGO_KEY'], lambda: fetch_tiingo(symbol, start_date, end_date)),\n",
        "        ('finnhub', CONFIG['FINNHUB_KEY'], lambda: fetch_finnhub(symbol, start_date, end_date)),\n",
        "        ('polygon', CONFIG['POLYGON_KEY'], lambda: fetch_polygon(symbol, start_date, end_date)),\n",
        "        ('marketstack', CONFIG['MARKETSTACK_KEY'], lambda: fetch_marketstack(symbol, start_date, end_date)),\n",
        "        ('quandl', CONFIG['QUANDL_KEY'], lambda: fetch_quandl(symbol, start_date, end_date)),\n",
        "        ('yahoo', None, lambda: fetch_yahoo(symbol, start_date, end_date))\n",
        "    ]\n",
        "\n",
        "    for provider, api_key, fetch_func in api_providers:\n",
        "        for attempt in range(2):\n",
        "            try:\n",
        "                rate_limit_api_calls()\n",
        "                df = fetch_func()\n",
        "                if df is not None and not df.empty:\n",
        "                    logging.info(f\"Successfully fetched {symbol} from {provider}\")\n",
        "                    return df\n",
        "                logging.warning(f\"Attempt {attempt + 1} failed for {provider} with {symbol}\")\n",
        "            except Exception as e:\n",
        "                logging.warning(f\"{provider} attempt {attempt + 1} failed for {symbol}: {e}\")\n",
        "\n",
        "        logging.error(f\"All attempts for {provider} failed for {symbol}\")\n",
        "\n",
        "    API_FAIL_TRACKER['symbols_failed'].add(symbol)\n",
        "    API_FAIL_TRACKER['total_failures'] += 1\n",
        "    logging.error(f\"All APIs failed for {symbol}. Total failures: {API_FAIL_TRACKER['total_failures']}\")\n",
        "\n",
        "    if API_FAIL_TRACKER['total_failures'] >= 3 and len(API_FAIL_TRACKER['symbols_failed']) >= 3:\n",
        "        logging.error(\"Aborting: 3 failures across 3 symbols reached\")\n",
        "        return None\n",
        "\n",
        "    return None\n",
        "\n",
        "# Helper functions for each API\n",
        "def fetch_alpha_vantage(symbol: str, start_date: datetime, end_date: datetime) -> Optional[pd.DataFrame]:\n",
        "    url = f\"https://www.alphavantage.co/query?function=TIME_SERIES_DAILY&symbol={symbol}&outputsize=full&apikey={CONFIG['ALPHA_VANTAGE_KEY']}\"\n",
        "    response = requests.get(url)\n",
        "    data = response.json()\n",
        "    if 'Time Series (Daily)' not in data:\n",
        "        return None\n",
        "    df = pd.DataFrame(data['Time Series (Daily)']).T\n",
        "    df.columns = ['open', 'high', 'low', 'close', 'volume']\n",
        "    df = df.apply(pd.to_numeric)\n",
        "    df.index = pd.to_datetime(df.index)\n",
        "    return df.sort_index().loc[df.index >= start_date.strftime('%Y-%m-%d')]\n",
        "\n",
        "def fetch_tiingo(symbol: str, start_date: datetime, end_date: datetime) -> Optional[pd.DataFrame]:\n",
        "    url = f\"https://api.tiingo.com/tiingo/daily/{symbol}/prices?startDate={start_date.strftime('%Y-%m-%d')}&endDate={end_date.strftime('%Y-%m-%d')}&token={CONFIG['TIINGO_KEY']}\"\n",
        "    headers = {'Content-Type': 'application/json'}\n",
        "    response = requests.get(url, headers=headers)\n",
        "    data = response.json()\n",
        "    if not data:\n",
        "        return None\n",
        "    df = pd.DataFrame(data)\n",
        "    df = df.rename(columns={'date': 'index', 'adjOpen': 'open', 'adjHigh': 'high', 'adjLow': 'low', 'adjClose': 'close', 'adjVolume': 'volume'})\n",
        "    df['index'] = pd.to_datetime(df['index'])\n",
        "    df = df.set_index('index')\n",
        "    return df[['open', 'high', 'low', 'close', 'volume']]\n",
        "\n",
        "def fetch_finnhub(symbol: str, start_date: datetime, end_date: datetime) -> Optional[pd.DataFrame]:\n",
        "    start_timestamp = int(start_date.timestamp())\n",
        "    end_timestamp = int(end_date.timestamp())\n",
        "    url = f\"https://finnhub.io/api/v1/stock/candle?symbol={symbol}&resolution=D&from={start_timestamp}&to={end_timestamp}&token={CONFIG['FINNHUB_KEY']}\"\n",
        "    response = requests.get(url)\n",
        "    data = response.json()\n",
        "    if 's' in data and data['s'] == 'no_data':\n",
        "        return None\n",
        "    df = pd.DataFrame({\n",
        "        'open': data['o'],\n",
        "        'high': data['h'],\n",
        "        'low': data['l'],\n",
        "        'close': data['c'],\n",
        "        'volume': data['v']\n",
        "    }, index=pd.to_datetime(data['t'], unit='s'))\n",
        "    return df\n",
        "\n",
        "def fetch_polygon(symbol: str, start_date: datetime, end_date: datetime) -> Optional[pd.DataFrame]:\n",
        "    url = f\"https://api.polygon.io/v2/aggs/ticker/{symbol}/range/1/day/{start_date.strftime('%Y-%m-%d')}/{end_date.strftime('%Y-%m-%d')}?apiKey={CONFIG['POLYGON_KEY']}\"\n",
        "    response = requests.get(url)\n",
        "    data = response.json()\n",
        "    if 'results' not in data:\n",
        "        return None\n",
        "    df = pd.DataFrame(data['results'])\n",
        "    df = df.rename(columns={'o': 'open', 'h': 'high', 'l': 'low', 'c': 'close', 'v': 'volume', 't': 'index'})\n",
        "    df['index'] = pd.to_datetime(df['index'], unit='ms')\n",
        "    df = df.set_index('index')\n",
        "    return df[['open', 'high', 'low', 'close', 'volume']]\n",
        "\n",
        "def fetch_marketstack(symbol: str, start_date: datetime, end_date: datetime) -> Optional[pd.DataFrame]:\n",
        "    url = f\"http://api.marketstack.com/v1/eod?access_key={CONFIG['MARKETSTACK_KEY']}&symbols={symbol}&date_from={start_date.strftime('%Y-%m-%d')}&date_to={end_date.strftime('%Y-%m-%d')}\"\n",
        "    response = requests.get(url)\n",
        "    data = response.json()\n",
        "    if 'data' not in data:\n",
        "        return None\n",
        "    df = pd.DataFrame(data['data'])\n",
        "    df = df.rename(columns={'open': 'open', 'high': 'high', 'low': 'low', 'close': 'close', 'volume': 'volume', 'date': 'index'})\n",
        "    df['index'] = pd.to_datetime(df['index'])\n",
        "    df = df.set_index('index')\n",
        "    return df[['open', 'high', 'low', 'close', 'volume']]\n",
        "\n",
        "def fetch_quandl(symbol: str, start_date: datetime, end_date: datetime) -> Optional[pd.DataFrame]:\n",
        "    url = f\"https://www.quandl.com/api/v3/datasets/WIKI/{symbol}.json?start_date={start_date.strftime('%Y-%m-%d')}&end_date={end_date.strftime('%Y-%m-%d')}&api_key={CONFIG['QUANDL_KEY']}\"\n",
        "    response = requests.get(url)\n",
        "    data = response.json()\n",
        "    if 'dataset' not in data:\n",
        "        return None\n",
        "    df = pd.DataFrame(data['dataset']['data'], columns=data['dataset']['column_names'])\n",
        "    df = df.rename(columns={'Date': 'index', 'Open': 'open', 'High': 'high', 'Low': 'low', 'Close': 'close', 'Volume': 'volume'})\n",
        "    df['index'] = pd.to_datetime(df['index'])\n",
        "    df = df.set_index('index')\n",
        "    return df[['open', 'high', 'low', 'close', 'volume']]\n",
        "\n",
        "def fetch_yahoo(symbol: str, start_date: datetime, end_date: datetime) -> Optional[pd.DataFrame]:\n",
        "    stock = yf.Ticker(symbol)\n",
        "    df = stock.history(start=start_date.strftime('%Y-%m-%d'), end=end_date.strftime('%Y-%m-%d'))\n",
        "    df.columns = [col.lower() for col in df.columns]\n",
        "    return df if not df.empty else None\n",
        "\n",
        "# calculate_volatility\n",
        "def calculate_volatility(stock_data: pd.DataFrame) -> float:\n",
        "    \"\"\"Annualized volatility based on daily returns\"\"\"\n",
        "    returns = stock_data['close'].pct_change()\n",
        "    return returns.std() * np.sqrt(252)\n",
        "\n",
        "# sharpe_ratio\n",
        "def sharpe_ratio(stock_data: pd.DataFrame, risk_free_rate: float = CONFIG['RISK_FREE_RATE']) -> float:\n",
        "    returns = stock_data['close'].pct_change()\n",
        "    avg_return = returns.mean() * 252\n",
        "    volatility = calculate_volatility(stock_data)\n",
        "    return (avg_return - risk_free_rate) / volatility if volatility else 0\n",
        "\n",
        "# max_drawdown\n",
        "def max_drawdown(stock_data: pd.DataFrame) -> float:\n",
        "    cumulative = (1 + stock_data['close'].pct_change().fillna(0)).cumprod()\n",
        "    peak = cumulative.cummax()\n",
        "    drawdown = (cumulative - peak) / peak\n",
        "    return drawdown.min()\n",
        "\n",
        "# predict_stock_movement\n",
        "def predict_stock_movement(stock_data: pd.DataFrame, horizon: str = 'days') -> Dict:\n",
        "    X = np.arange(len(stock_data)).reshape(-1, 1)\n",
        "    y = stock_data['close'].values\n",
        "    model = LinearRegression()\n",
        "    model.fit(X, y)\n",
        "    future_steps = CONFIG['PREDICTION_HORIZONS'].get(horizon, 3)\n",
        "    future_price = model.predict(np.array([[len(stock_data) + future_steps]]))[0]\n",
        "    last_price = stock_data['close'].iloc[-1]\n",
        "    movement_pct = ((future_price - last_price) / last_price) * 100\n",
        "    return {\n",
        "        'symbol': stock_data.name if hasattr(stock_data, 'name') else 'Unknown',\n",
        "        'current_price': last_price,\n",
        "        'predicted_price': future_price,\n",
        "        'movement_percentage': movement_pct,\n",
        "        'direction': 'UP' if movement_pct > 0 else 'DOWN'\n",
        "    }\n",
        "\n",
        "# assess_stock_risk\n",
        "def assess_stock_risk(symbol: str, stock_data: pd.DataFrame) -> Dict:\n",
        "    volatility = calculate_volatility(stock_data)\n",
        "    sharpe = sharpe_ratio(stock_data)\n",
        "    drawdown = max_drawdown(stock_data)\n",
        "    score = (volatility * 50) + (abs(drawdown) * 30) - (sharpe * 20)\n",
        "    categories = {\n",
        "        'Very Low Risk': (0, 10),\n",
        "        'Low Risk': (10, 25),\n",
        "        'Moderate Risk': (25, 50),\n",
        "        'High Risk': (50, 75),\n",
        "        'Very High Risk': (75, 100)\n",
        "    }\n",
        "    risk_category = next((cat for cat, (low, high) in categories.items() if low <= score < high), 'Extreme Risk')\n",
        "    return {\n",
        "        'symbol': symbol,\n",
        "        'volatility': volatility,\n",
        "        'sharpe_ratio': sharpe,\n",
        "        'max_drawdown': drawdown,\n",
        "        'risk_score': score,\n",
        "        'risk_category': risk_category\n",
        "    }\n",
        "\n",
        "# explain_prediction\n",
        "def explain_prediction(stock):\n",
        "    explanation = f\"\\n\\nExplanation for {stock['symbol']} Recommendation:\\n\"\n",
        "    explanation += f\"1. 🧠 High School Level: This stock's price has been going up steadily. Our model thinks it will keep going up, and it's not very risky compared to others.\\n\"\n",
        "    explanation += f\"2. 👨‍💻 Technical (Coders): Linear regression on {stock['symbol']}'s closing price showed a positive slope. This trend, extrapolated, suggests a future increase.\\n\"\n",
        "    explanation += f\"3. 📊 Statistical Insight: We regressed closing prices (y) on time (t), observed a significant upward trend.\\n\"\n",
        "    explanation += f\"   With a Sharpe ratio of {stock['sharpe_ratio']:.2f} and drawdown of {stock['max_drawdown']:.2f}, this asset shows favorable risk-adjusted return.\\n\"\n",
        "    explanation += f\"   Risk category: {stock['risk_category']}\\n\"\n",
        "    explanation += \"\\nPotential Enhancements:\\n\"\n",
        "    explanation += \"- Replace regression with XGBoost using volume, RSI, and news sentiment\\n\"\n",
        "    explanation += \"- Add earnings surprise filter and insider trade flag\\n\"\n",
        "    return explanation\n",
        "\n",
        "# display_intro\n",
        "def display_intro():\n",
        "    print(\"\\n====================\")\n",
        "    print(\"📈 STOCK PREDICTOR OVERVIEW\")\n",
        "    print(\"====================\")\n",
        "    print(\"This script analyzes U.S. stocks (primarily under $8, but also top tech picks) using:\")\n",
        "    print(\"- 📊 Linear Regression to predict short-term price trends\")\n",
        "    print(\"- ⚖️ Sharpe Ratio, Volatility, Max Drawdown to assess risk\")\n",
        "    print(\"- 🔎 Filters to select low-risk, high-upside candidates\")\n",
        "    print(\"Goal: Identify undervalued stocks likely to move up over the next few days.\")\n",
        "    print(f\"Data range pulled: Last {CONFIG['MAX_HISTORY_DAYS']} days\")\n",
        "    print(\"API Priority: Alpha Vantage → Tiingo → Finnhub → Polygon → Marketstack → Quandl → Yahoo Finance\\n\")\n",
        "\n",
        "# Update main to validate keys before starting\n",
        "def main(verbose: bool = False):\n",
        "    logging.basicConfig(level=logging.INFO)\n",
        "    print(\"🔍 Starting stock analysis...\")\n",
        "\n",
        "    # Validate API keys before proceeding\n",
        "    validate_api_keys()\n",
        "\n",
        "    display_intro()\n",
        "    print(\"📦 Fetching stock list...\")\n",
        "\n",
        "    symbols = get_us_market_stocks()\n",
        "    print(f\"✅ Retrieved {len(symbols)} stock symbols. Beginning data collection and prediction...\")\n",
        "\n",
        "    if not symbols:\n",
        "        print(\"\\nERROR: No stock symbols were retrieved. Please check your internet connection and API key.\")\n",
        "        return\n",
        "\n",
        "    print(\"🔄 Processing stock symbols, please wait...\")\n",
        "    start_time = time.time()\n",
        "    processed = 0\n",
        "    total_symbols = len(symbols)\n",
        "    eligible_stocks = []\n",
        "\n",
        "    for idx, symbol in enumerate(symbols, 1):\n",
        "        try:\n",
        "            processed += 1\n",
        "            elapsed = time.time() - start_time\n",
        "            est_total_time = (elapsed / processed) * total_symbols if processed > 0 else 0\n",
        "            est_remaining = est_total_time - elapsed\n",
        "            print(f\"⏳ [{processed}/{total_symbols}] Processing {symbol} | Est. Time Left: {int(est_remaining)}s\")\n",
        "            print(f\"   ↪️ Pulling last {CONFIG['MAX_HISTORY_DAYS']} days of price data...\")\n",
        "            print(\"   📌 Goal: Predict short-term direction and evaluate risk profile\")\n",
        "\n",
        "            if verbose:\n",
        "                logging.info(f\"Processing stock {processed}/{total_symbols}: {symbol}\")\n",
        "\n",
        "            stock_data = get_stock_data(symbol, days=CONFIG['MAX_HISTORY_DAYS'])\n",
        "            if stock_data is None or stock_data.empty:\n",
        "                if API_FAIL_TRACKER['total_failures'] >= 3 and len(API_FAIL_TRACKER['symbols_failed']) >= 3:\n",
        "                    print(f\"\\n⚠️ Aborted: Reached 3 failures across {len(API_FAIL_TRACKER['symbols_failed'])} symbols\")\n",
        "                    break\n",
        "                continue\n",
        "\n",
        "            current_price = stock_data['close'].iloc[-1]\n",
        "            if current_price > CONFIG['MAX_PRICE_THRESHOLD']:\n",
        "                continue\n",
        "\n",
        "            stock_data.name = symbol\n",
        "            prediction = predict_stock_movement(stock_data)\n",
        "            risk = assess_stock_risk(symbol, stock_data)\n",
        "            stock_info = {**prediction, **risk}\n",
        "            eligible_stocks.append(stock_info)\n",
        "\n",
        "            if len(eligible_stocks) >= CONFIG['TARGET_STOCKS']:\n",
        "                break\n",
        "\n",
        "        except Exception as e:\n",
        "            logging.warning(f\"Error processing {symbol}: {e}\")\n",
        "\n",
        "    print(\"✅ Stock processing complete. Ranking results...\")\n",
        "\n",
        "    if eligible_stocks:\n",
        "        ranked = sorted(eligible_stocks, key=lambda x: (x['risk_score'], -x['movement_percentage']))\n",
        "        print(\"\\n======================================\")\n",
        "        print(f\"Top Low-Price Stock Predictions (under ${CONFIG['MAX_PRICE_THRESHOLD']}):\")\n",
        "        print(\"======================================\")\n",
        "\n",
        "        for i, stock in enumerate(ranked[:10]):\n",
        "            print(f\"\\n{i+1}. {stock['symbol']}:\\n   Current Price: ${stock['current_price']:.2f}\\n   Predicted Price: ${stock['predicted_price']:.2f}\\n   Movement: {stock['direction']} by {abs(stock['movement_percentage']):.2f}%\\n   Volatility: {stock['volatility']:.4f}\\n   Sharpe Ratio: {stock['sharpe_ratio']:.4f}\\n   Max Drawdown: {stock['max_drawdown']:.4f}\\n   Risk Category: {stock['risk_category']}\")\n",
        "            print(explain_prediction(stock))\n",
        "    else:\n",
        "        print(\"\\nNo stocks matching criteria were found.\")\n",
        "        print(\"Possible issues:\")\n",
        "        print(\"1. API rate limits exceeded\")\n",
        "        print(\"2. Network connection problem\")\n",
        "        print(\"3. No stocks under the price threshold ($\" + str(CONFIG['MAX_PRICE_THRESHOLD']) + \")\")\n",
        "        print(\"4. API key issues (check your Colab Secrets)\")\n",
        "\n",
        "    if API_FAIL_TRACKER['total_failures'] > 0:\n",
        "        print(f\"\\n⚠️ Warning: Encountered {API_FAIL_TRACKER['total_failures']} failures across symbols: {API_FAIL_TRACKER['symbols_failed']}\")\n",
        "\n",
        "    print(\"✅ Analysis complete. Results above.\")\n",
        "\n",
        "if __name__ == \"__main__\":\n",
        "    import sys\n",
        "    verbose = '--verbose' in sys.argv\n",
        "    main(verbose=verbose)"
      ],
      "metadata": {
        "colab": {
          "base_uri": "https://localhost:8080/"
        },
        "id": "TXTz_QvcTATj",
        "outputId": "6ab250df-8d20-4c3c-fd6a-7839cdf4c7e1"
      },
      "execution_count": 8,
      "outputs": [
        {
          "output_type": "stream",
          "name": "stdout",
          "text": [
            "🔍 Starting stock analysis...\n",
            "✅ All API keys loaded successfully.\n",
            "\n",
            "====================\n",
            "📈 STOCK PREDICTOR OVERVIEW\n",
            "====================\n",
            "This script analyzes U.S. stocks (primarily under $8, but also top tech picks) using:\n",
            "- 📊 Linear Regression to predict short-term price trends\n",
            "- ⚖️ Sharpe Ratio, Volatility, Max Drawdown to assess risk\n",
            "- 🔎 Filters to select low-risk, high-upside candidates\n",
            "Goal: Identify undervalued stocks likely to move up over the next few days.\n",
            "Data range pulled: Last 90 days\n",
            "API Priority: Alpha Vantage → Tiingo → Finnhub → Polygon → Marketstack → Quandl → Yahoo Finance\n",
            "\n",
            "📦 Fetching stock list...\n",
            "✅ Retrieved 67 stock symbols. Beginning data collection and prediction...\n",
            "🔄 Processing stock symbols, please wait...\n",
            "⏳ [1/67] Processing AMZN | Est. Time Left: 0s\n",
            "   ↪️ Pulling last 90 days of price data...\n",
            "   📌 Goal: Predict short-term direction and evaluate risk profile\n",
            "⏳ [2/67] Processing FOLD | Est. Time Left: 445s\n",
            "   ↪️ Pulling last 90 days of price data...\n",
            "   📌 Goal: Predict short-term direction and evaluate risk profile\n",
            "⏳ [3/67] Processing IQ | Est. Time Left: 579s\n",
            "   ↪️ Pulling last 90 days of price data...\n",
            "   📌 Goal: Predict short-term direction and evaluate risk profile\n",
            "⏳ [4/67] Processing META | Est. Time Left: 633s\n",
            "   ↪️ Pulling last 90 days of price data...\n",
            "   📌 Goal: Predict short-term direction and evaluate risk profile\n",
            "⏳ [5/67] Processing TUYA | Est. Time Left: 663s\n",
            "   ↪️ Pulling last 90 days of price data...\n",
            "   📌 Goal: Predict short-term direction and evaluate risk profile\n",
            "⏳ [6/67] Processing LFST | Est. Time Left: 676s\n",
            "   ↪️ Pulling last 90 days of price data...\n",
            "   📌 Goal: Predict short-term direction and evaluate risk profile\n",
            "⏳ [7/67] Processing RDFN | Est. Time Left: 680s\n",
            "   ↪️ Pulling last 90 days of price data...\n",
            "   📌 Goal: Predict short-term direction and evaluate risk profile\n",
            "⏳ [8/67] Processing SNDL | Est. Time Left: 682s\n",
            "   ↪️ Pulling last 90 days of price data...\n",
            "   📌 Goal: Predict short-term direction and evaluate risk profile\n",
            "⏳ [9/67] Processing NTIC | Est. Time Left: 679s\n",
            "   ↪️ Pulling last 90 days of price data...\n",
            "   📌 Goal: Predict short-term direction and evaluate risk profile\n",
            "⏳ [10/67] Processing ALMS | Est. Time Left: 678s\n",
            "   ↪️ Pulling last 90 days of price data...\n",
            "   📌 Goal: Predict short-term direction and evaluate risk profile\n",
            "⏳ [11/67] Processing DEA | Est. Time Left: 670s\n",
            "   ↪️ Pulling last 90 days of price data...\n",
            "   📌 Goal: Predict short-term direction and evaluate risk profile\n",
            "⏳ [12/67] Processing GEVO | Est. Time Left: 664s\n",
            "   ↪️ Pulling last 90 days of price data...\n",
            "   📌 Goal: Predict short-term direction and evaluate risk profile\n",
            "⏳ [13/67] Processing CRVO | Est. Time Left: 657s\n",
            "   ↪️ Pulling last 90 days of price data...\n",
            "   📌 Goal: Predict short-term direction and evaluate risk profile\n",
            "⏳ [14/67] Processing PTON | Est. Time Left: 649s\n",
            "   ↪️ Pulling last 90 days of price data...\n",
            "   📌 Goal: Predict short-term direction and evaluate risk profile\n",
            "⏳ [15/67] Processing CRGY | Est. Time Left: 641s\n",
            "   ↪️ Pulling last 90 days of price data...\n",
            "   📌 Goal: Predict short-term direction and evaluate risk profile\n",
            "⏳ [16/67] Processing NGD | Est. Time Left: 630s\n",
            "   ↪️ Pulling last 90 days of price data...\n",
            "   📌 Goal: Predict short-term direction and evaluate risk profile\n",
            "⏳ [17/67] Processing TSLA | Est. Time Left: 621s\n",
            "   ↪️ Pulling last 90 days of price data...\n",
            "   📌 Goal: Predict short-term direction and evaluate risk profile\n",
            "⏳ [18/67] Processing CPRX | Est. Time Left: 611s\n",
            "   ↪️ Pulling last 90 days of price data...\n",
            "   📌 Goal: Predict short-term direction and evaluate risk profile\n",
            "⏳ [19/67] Processing BZUN | Est. Time Left: 601s\n",
            "   ↪️ Pulling last 90 days of price data...\n",
            "   📌 Goal: Predict short-term direction and evaluate risk profile\n",
            "⏳ [20/67] Processing NVDA | Est. Time Left: 590s\n",
            "   ↪️ Pulling last 90 days of price data...\n",
            "   📌 Goal: Predict short-term direction and evaluate risk profile\n",
            "⏳ [21/67] Processing JNJ | Est. Time Left: 580s\n",
            "   ↪️ Pulling last 90 days of price data...\n",
            "   📌 Goal: Predict short-term direction and evaluate risk profile\n",
            "⏳ [22/67] Processing PAYO | Est. Time Left: 569s\n",
            "   ↪️ Pulling last 90 days of price data...\n",
            "   📌 Goal: Predict short-term direction and evaluate risk profile\n",
            "⏳ [23/67] Processing IDN | Est. Time Left: 557s\n",
            "   ↪️ Pulling last 90 days of price data...\n",
            "   📌 Goal: Predict short-term direction and evaluate risk profile\n",
            "⏳ [24/67] Processing NAK | Est. Time Left: 547s\n",
            "   ↪️ Pulling last 90 days of price data...\n",
            "   📌 Goal: Predict short-term direction and evaluate risk profile\n",
            "⏳ [25/67] Processing TGB | Est. Time Left: 535s\n",
            "   ↪️ Pulling last 90 days of price data...\n",
            "   📌 Goal: Predict short-term direction and evaluate risk profile\n",
            "⏳ [26/67] Processing DAL | Est. Time Left: 524s\n",
            "   ↪️ Pulling last 90 days of price data...\n",
            "   📌 Goal: Predict short-term direction and evaluate risk profile\n",
            "⏳ [27/67] Processing RGNX | Est. Time Left: 512s\n",
            "   ↪️ Pulling last 90 days of price data...\n",
            "   📌 Goal: Predict short-term direction and evaluate risk profile\n"
          ]
        },
        {
          "output_type": "stream",
          "name": "stderr",
          "text": [
            "WARNING:root:Attempt 1 failed for alpha_vantage with RGNX\n",
            "WARNING:root:Attempt 2 failed for alpha_vantage with RGNX\n",
            "ERROR:root:All attempts for alpha_vantage failed for RGNX\n",
            "WARNING:root:Error processing RGNX: The truth value of a Series is ambiguous. Use a.empty, a.bool(), a.item(), a.any() or a.all().\n"
          ]
        },
        {
          "output_type": "stream",
          "name": "stdout",
          "text": [
            "⏳ [28/67] Processing DYN | Est. Time Left: 533s\n",
            "   ↪️ Pulling last 90 days of price data...\n",
            "   📌 Goal: Predict short-term direction and evaluate risk profile\n"
          ]
        },
        {
          "output_type": "stream",
          "name": "stderr",
          "text": [
            "WARNING:root:Attempt 1 failed for alpha_vantage with DYN\n",
            "WARNING:root:Attempt 2 failed for alpha_vantage with DYN\n",
            "ERROR:root:All attempts for alpha_vantage failed for DYN\n",
            "WARNING:root:Error processing DYN: The truth value of a Series is ambiguous. Use a.empty, a.bool(), a.item(), a.any() or a.all().\n"
          ]
        },
        {
          "output_type": "stream",
          "name": "stdout",
          "text": [
            "⏳ [29/67] Processing AMD | Est. Time Left: 551s\n",
            "   ↪️ Pulling last 90 days of price data...\n",
            "   📌 Goal: Predict short-term direction and evaluate risk profile\n"
          ]
        },
        {
          "output_type": "stream",
          "name": "stderr",
          "text": [
            "WARNING:root:Attempt 1 failed for alpha_vantage with AMD\n",
            "WARNING:root:Attempt 2 failed for alpha_vantage with AMD\n",
            "ERROR:root:All attempts for alpha_vantage failed for AMD\n",
            "WARNING:root:Error processing AMD: The truth value of a Series is ambiguous. Use a.empty, a.bool(), a.item(), a.any() or a.all().\n"
          ]
        },
        {
          "output_type": "stream",
          "name": "stdout",
          "text": [
            "⏳ [30/67] Processing NEOG | Est. Time Left: 564s\n",
            "   ↪️ Pulling last 90 days of price data...\n",
            "   📌 Goal: Predict short-term direction and evaluate risk profile\n"
          ]
        },
        {
          "output_type": "stream",
          "name": "stderr",
          "text": [
            "WARNING:root:Attempt 1 failed for alpha_vantage with NEOG\n",
            "WARNING:root:Attempt 2 failed for alpha_vantage with NEOG\n",
            "ERROR:root:All attempts for alpha_vantage failed for NEOG\n",
            "WARNING:root:Error processing NEOG: The truth value of a Series is ambiguous. Use a.empty, a.bool(), a.item(), a.any() or a.all().\n"
          ]
        },
        {
          "output_type": "stream",
          "name": "stdout",
          "text": [
            "⏳ [31/67] Processing AIRG | Est. Time Left: 574s\n",
            "   ↪️ Pulling last 90 days of price data...\n",
            "   📌 Goal: Predict short-term direction and evaluate risk profile\n"
          ]
        },
        {
          "output_type": "stream",
          "name": "stderr",
          "text": [
            "WARNING:root:Attempt 1 failed for alpha_vantage with AIRG\n",
            "WARNING:root:Attempt 2 failed for alpha_vantage with AIRG\n",
            "ERROR:root:All attempts for alpha_vantage failed for AIRG\n",
            "WARNING:root:Error processing AIRG: The truth value of a Series is ambiguous. Use a.empty, a.bool(), a.item(), a.any() or a.all().\n"
          ]
        },
        {
          "output_type": "stream",
          "name": "stdout",
          "text": [
            "⏳ [32/67] Processing MASS | Est. Time Left: 582s\n",
            "   ↪️ Pulling last 90 days of price data...\n",
            "   📌 Goal: Predict short-term direction and evaluate risk profile\n"
          ]
        },
        {
          "output_type": "stream",
          "name": "stderr",
          "text": [
            "WARNING:root:Attempt 1 failed for alpha_vantage with MASS\n",
            "WARNING:root:Attempt 2 failed for alpha_vantage with MASS\n",
            "ERROR:root:All attempts for alpha_vantage failed for MASS\n",
            "WARNING:root:Error processing MASS: The truth value of a Series is ambiguous. Use a.empty, a.bool(), a.item(), a.any() or a.all().\n"
          ]
        },
        {
          "output_type": "stream",
          "name": "stdout",
          "text": [
            "⏳ [33/67] Processing BLDE | Est. Time Left: 586s\n",
            "   ↪️ Pulling last 90 days of price data...\n",
            "   📌 Goal: Predict short-term direction and evaluate risk profile\n"
          ]
        },
        {
          "output_type": "stream",
          "name": "stderr",
          "text": [
            "WARNING:root:Attempt 1 failed for alpha_vantage with BLDE\n",
            "WARNING:root:Attempt 2 failed for alpha_vantage with BLDE\n",
            "ERROR:root:All attempts for alpha_vantage failed for BLDE\n",
            "WARNING:root:Error processing BLDE: The truth value of a Series is ambiguous. Use a.empty, a.bool(), a.item(), a.any() or a.all().\n"
          ]
        },
        {
          "output_type": "stream",
          "name": "stdout",
          "text": [
            "⏳ [34/67] Processing HPK | Est. Time Left: 588s\n",
            "   ↪️ Pulling last 90 days of price data...\n",
            "   📌 Goal: Predict short-term direction and evaluate risk profile\n"
          ]
        },
        {
          "output_type": "stream",
          "name": "stderr",
          "text": [
            "WARNING:root:Attempt 1 failed for alpha_vantage with HPK\n",
            "WARNING:root:Attempt 2 failed for alpha_vantage with HPK\n",
            "ERROR:root:All attempts for alpha_vantage failed for HPK\n",
            "WARNING:root:Error processing HPK: The truth value of a Series is ambiguous. Use a.empty, a.bool(), a.item(), a.any() or a.all().\n"
          ]
        },
        {
          "output_type": "stream",
          "name": "stdout",
          "text": [
            "⏳ [35/67] Processing LUNG | Est. Time Left: 588s\n",
            "   ↪️ Pulling last 90 days of price data...\n",
            "   📌 Goal: Predict short-term direction and evaluate risk profile\n"
          ]
        },
        {
          "output_type": "stream",
          "name": "stderr",
          "text": [
            "WARNING:root:Attempt 1 failed for alpha_vantage with LUNG\n",
            "WARNING:root:Attempt 2 failed for alpha_vantage with LUNG\n",
            "ERROR:root:All attempts for alpha_vantage failed for LUNG\n",
            "WARNING:root:Error processing LUNG: The truth value of a Series is ambiguous. Use a.empty, a.bool(), a.item(), a.any() or a.all().\n"
          ]
        },
        {
          "output_type": "stream",
          "name": "stdout",
          "text": [
            "⏳ [36/67] Processing JPM | Est. Time Left: 586s\n",
            "   ↪️ Pulling last 90 days of price data...\n",
            "   📌 Goal: Predict short-term direction and evaluate risk profile\n"
          ]
        },
        {
          "output_type": "stream",
          "name": "stderr",
          "text": [
            "WARNING:root:Attempt 1 failed for alpha_vantage with JPM\n",
            "WARNING:root:Attempt 2 failed for alpha_vantage with JPM\n",
            "ERROR:root:All attempts for alpha_vantage failed for JPM\n",
            "WARNING:root:Error processing JPM: The truth value of a Series is ambiguous. Use a.empty, a.bool(), a.item(), a.any() or a.all().\n"
          ]
        },
        {
          "output_type": "stream",
          "name": "stdout",
          "text": [
            "⏳ [37/67] Processing NRIX | Est. Time Left: 582s\n",
            "   ↪️ Pulling last 90 days of price data...\n",
            "   📌 Goal: Predict short-term direction and evaluate risk profile\n"
          ]
        },
        {
          "output_type": "stream",
          "name": "stderr",
          "text": [
            "WARNING:root:Attempt 1 failed for alpha_vantage with NRIX\n",
            "WARNING:root:Attempt 2 failed for alpha_vantage with NRIX\n",
            "ERROR:root:All attempts for alpha_vantage failed for NRIX\n",
            "WARNING:root:Error processing NRIX: The truth value of a Series is ambiguous. Use a.empty, a.bool(), a.item(), a.any() or a.all().\n"
          ]
        },
        {
          "output_type": "stream",
          "name": "stdout",
          "text": [
            "⏳ [38/67] Processing CRDF | Est. Time Left: 576s\n",
            "   ↪️ Pulling last 90 days of price data...\n",
            "   📌 Goal: Predict short-term direction and evaluate risk profile\n"
          ]
        },
        {
          "output_type": "stream",
          "name": "stderr",
          "text": [
            "WARNING:root:Attempt 1 failed for alpha_vantage with CRDF\n",
            "WARNING:root:Attempt 2 failed for alpha_vantage with CRDF\n",
            "ERROR:root:All attempts for alpha_vantage failed for CRDF\n",
            "WARNING:root:Error processing CRDF: The truth value of a Series is ambiguous. Use a.empty, a.bool(), a.item(), a.any() or a.all().\n"
          ]
        },
        {
          "output_type": "stream",
          "name": "stdout",
          "text": [
            "⏳ [39/67] Processing HPE | Est. Time Left: 569s\n",
            "   ↪️ Pulling last 90 days of price data...\n",
            "   📌 Goal: Predict short-term direction and evaluate risk profile\n"
          ]
        },
        {
          "output_type": "stream",
          "name": "stderr",
          "text": [
            "WARNING:root:Attempt 1 failed for alpha_vantage with HPE\n",
            "WARNING:root:Attempt 2 failed for alpha_vantage with HPE\n",
            "ERROR:root:All attempts for alpha_vantage failed for HPE\n",
            "WARNING:root:Error processing HPE: The truth value of a Series is ambiguous. Use a.empty, a.bool(), a.item(), a.any() or a.all().\n"
          ]
        },
        {
          "output_type": "stream",
          "name": "stdout",
          "text": [
            "⏳ [40/67] Processing BOOM | Est. Time Left: 560s\n",
            "   ↪️ Pulling last 90 days of price data...\n",
            "   📌 Goal: Predict short-term direction and evaluate risk profile\n"
          ]
        },
        {
          "output_type": "stream",
          "name": "stderr",
          "text": [
            "WARNING:root:Attempt 1 failed for alpha_vantage with BOOM\n",
            "WARNING:root:Attempt 2 failed for alpha_vantage with BOOM\n",
            "ERROR:root:All attempts for alpha_vantage failed for BOOM\n",
            "WARNING:root:Error processing BOOM: The truth value of a Series is ambiguous. Use a.empty, a.bool(), a.item(), a.any() or a.all().\n"
          ]
        },
        {
          "output_type": "stream",
          "name": "stdout",
          "text": [
            "⏳ [41/67] Processing IVR | Est. Time Left: 550s\n",
            "   ↪️ Pulling last 90 days of price data...\n",
            "   📌 Goal: Predict short-term direction and evaluate risk profile\n"
          ]
        },
        {
          "output_type": "stream",
          "name": "stderr",
          "text": [
            "WARNING:root:Attempt 1 failed for alpha_vantage with IVR\n",
            "WARNING:root:Attempt 2 failed for alpha_vantage with IVR\n",
            "ERROR:root:All attempts for alpha_vantage failed for IVR\n",
            "WARNING:root:Error processing IVR: The truth value of a Series is ambiguous. Use a.empty, a.bool(), a.item(), a.any() or a.all().\n"
          ]
        },
        {
          "output_type": "stream",
          "name": "stdout",
          "text": [
            "⏳ [42/67] Processing COUR | Est. Time Left: 539s\n",
            "   ↪️ Pulling last 90 days of price data...\n",
            "   📌 Goal: Predict short-term direction and evaluate risk profile\n"
          ]
        },
        {
          "output_type": "stream",
          "name": "stderr",
          "text": [
            "WARNING:root:Attempt 1 failed for alpha_vantage with COUR\n",
            "WARNING:root:Attempt 2 failed for alpha_vantage with COUR\n",
            "ERROR:root:All attempts for alpha_vantage failed for COUR\n",
            "WARNING:root:Error processing COUR: The truth value of a Series is ambiguous. Use a.empty, a.bool(), a.item(), a.any() or a.all().\n"
          ]
        },
        {
          "output_type": "stream",
          "name": "stdout",
          "text": [
            "⏳ [43/67] Processing HGBL | Est. Time Left: 526s\n",
            "   ↪️ Pulling last 90 days of price data...\n",
            "   📌 Goal: Predict short-term direction and evaluate risk profile\n"
          ]
        },
        {
          "output_type": "stream",
          "name": "stderr",
          "text": [
            "WARNING:root:Attempt 1 failed for alpha_vantage with HGBL\n",
            "WARNING:root:Attempt 2 failed for alpha_vantage with HGBL\n",
            "ERROR:root:All attempts for alpha_vantage failed for HGBL\n",
            "WARNING:root:Error processing HGBL: The truth value of a Series is ambiguous. Use a.empty, a.bool(), a.item(), a.any() or a.all().\n"
          ]
        },
        {
          "output_type": "stream",
          "name": "stdout",
          "text": [
            "⏳ [44/67] Processing GSAT | Est. Time Left: 512s\n",
            "   ↪️ Pulling last 90 days of price data...\n",
            "   📌 Goal: Predict short-term direction and evaluate risk profile\n"
          ]
        },
        {
          "output_type": "stream",
          "name": "stderr",
          "text": [
            "WARNING:root:Attempt 1 failed for alpha_vantage with GSAT\n",
            "WARNING:root:Attempt 2 failed for alpha_vantage with GSAT\n",
            "ERROR:root:All attempts for alpha_vantage failed for GSAT\n",
            "WARNING:root:Error processing GSAT: The truth value of a Series is ambiguous. Use a.empty, a.bool(), a.item(), a.any() or a.all().\n"
          ]
        },
        {
          "output_type": "stream",
          "name": "stdout",
          "text": [
            "⏳ [45/67] Processing MAZE | Est. Time Left: 497s\n",
            "   ↪️ Pulling last 90 days of price data...\n",
            "   📌 Goal: Predict short-term direction and evaluate risk profile\n"
          ]
        },
        {
          "output_type": "stream",
          "name": "stderr",
          "text": [
            "WARNING:root:Attempt 1 failed for alpha_vantage with MAZE\n",
            "WARNING:root:Attempt 2 failed for alpha_vantage with MAZE\n",
            "ERROR:root:All attempts for alpha_vantage failed for MAZE\n",
            "WARNING:root:Error processing MAZE: The truth value of a Series is ambiguous. Use a.empty, a.bool(), a.item(), a.any() or a.all().\n"
          ]
        },
        {
          "output_type": "stream",
          "name": "stdout",
          "text": [
            "⏳ [46/67] Processing PRCH | Est. Time Left: 481s\n",
            "   ↪️ Pulling last 90 days of price data...\n",
            "   📌 Goal: Predict short-term direction and evaluate risk profile\n"
          ]
        },
        {
          "output_type": "stream",
          "name": "stderr",
          "text": [
            "WARNING:root:Attempt 1 failed for alpha_vantage with PRCH\n",
            "WARNING:root:Attempt 2 failed for alpha_vantage with PRCH\n",
            "ERROR:root:All attempts for alpha_vantage failed for PRCH\n",
            "WARNING:root:Error processing PRCH: The truth value of a Series is ambiguous. Use a.empty, a.bool(), a.item(), a.any() or a.all().\n"
          ]
        },
        {
          "output_type": "stream",
          "name": "stdout",
          "text": [
            "⏳ [47/67] Processing FCEL | Est. Time Left: 464s\n",
            "   ↪️ Pulling last 90 days of price data...\n",
            "   📌 Goal: Predict short-term direction and evaluate risk profile\n"
          ]
        },
        {
          "output_type": "stream",
          "name": "stderr",
          "text": [
            "WARNING:root:Attempt 1 failed for alpha_vantage with FCEL\n",
            "WARNING:root:Attempt 2 failed for alpha_vantage with FCEL\n",
            "ERROR:root:All attempts for alpha_vantage failed for FCEL\n",
            "WARNING:root:Error processing FCEL: The truth value of a Series is ambiguous. Use a.empty, a.bool(), a.item(), a.any() or a.all().\n"
          ]
        },
        {
          "output_type": "stream",
          "name": "stdout",
          "text": [
            "⏳ [48/67] Processing PLBY | Est. Time Left: 446s\n",
            "   ↪️ Pulling last 90 days of price data...\n",
            "   📌 Goal: Predict short-term direction and evaluate risk profile\n"
          ]
        },
        {
          "output_type": "stream",
          "name": "stderr",
          "text": [
            "WARNING:root:Attempt 1 failed for alpha_vantage with PLBY\n",
            "WARNING:root:Attempt 2 failed for alpha_vantage with PLBY\n",
            "ERROR:root:All attempts for alpha_vantage failed for PLBY\n",
            "WARNING:root:Error processing PLBY: The truth value of a Series is ambiguous. Use a.empty, a.bool(), a.item(), a.any() or a.all().\n"
          ]
        },
        {
          "output_type": "stream",
          "name": "stdout",
          "text": [
            "⏳ [49/67] Processing AAPL | Est. Time Left: 428s\n",
            "   ↪️ Pulling last 90 days of price data...\n",
            "   📌 Goal: Predict short-term direction and evaluate risk profile\n"
          ]
        },
        {
          "output_type": "stream",
          "name": "stderr",
          "text": [
            "WARNING:root:Attempt 1 failed for alpha_vantage with AAPL\n",
            "WARNING:root:Attempt 2 failed for alpha_vantage with AAPL\n",
            "ERROR:root:All attempts for alpha_vantage failed for AAPL\n",
            "WARNING:root:Error processing AAPL: The truth value of a Series is ambiguous. Use a.empty, a.bool(), a.item(), a.any() or a.all().\n"
          ]
        },
        {
          "output_type": "stream",
          "name": "stdout",
          "text": [
            "⏳ [50/67] Processing ONTX | Est. Time Left: 409s\n",
            "   ↪️ Pulling last 90 days of price data...\n",
            "   📌 Goal: Predict short-term direction and evaluate risk profile\n"
          ]
        },
        {
          "output_type": "stream",
          "name": "stderr",
          "text": [
            "WARNING:root:Attempt 1 failed for alpha_vantage with ONTX\n",
            "WARNING:root:Attempt 2 failed for alpha_vantage with ONTX\n",
            "ERROR:root:All attempts for alpha_vantage failed for ONTX\n",
            "WARNING:root:tiingo attempt 1 failed for ONTX: If using all scalar values, you must pass an index\n",
            "WARNING:root:tiingo attempt 2 failed for ONTX: If using all scalar values, you must pass an index\n",
            "ERROR:root:All attempts for tiingo failed for ONTX\n",
            "WARNING:root:finnhub attempt 1 failed for ONTX: 'o'\n",
            "WARNING:root:finnhub attempt 2 failed for ONTX: 'o'\n",
            "ERROR:root:All attempts for finnhub failed for ONTX\n",
            "WARNING:root:Attempt 1 failed for polygon with ONTX\n",
            "WARNING:root:Attempt 2 failed for polygon with ONTX\n",
            "ERROR:root:All attempts for polygon failed for ONTX\n",
            "WARNING:root:marketstack attempt 1 failed for ONTX: 'index'\n",
            "WARNING:root:marketstack attempt 2 failed for ONTX: 'index'\n",
            "ERROR:root:All attempts for marketstack failed for ONTX\n",
            "WARNING:root:quandl attempt 1 failed for ONTX: Expecting value: line 1 column 1 (char 0)\n",
            "WARNING:root:quandl attempt 2 failed for ONTX: Expecting value: line 1 column 1 (char 0)\n",
            "ERROR:root:All attempts for quandl failed for ONTX\n",
            "ERROR:yfinance:$ONTX: possibly delisted; no timezone found\n",
            "WARNING:root:Attempt 1 failed for yahoo with ONTX\n",
            "ERROR:yfinance:$ONTX: possibly delisted; no timezone found\n",
            "WARNING:root:Attempt 2 failed for yahoo with ONTX\n",
            "ERROR:root:All attempts for yahoo failed for ONTX\n",
            "ERROR:root:All APIs failed for ONTX. Total failures: 1\n"
          ]
        },
        {
          "output_type": "stream",
          "name": "stdout",
          "text": [
            "⏳ [51/67] Processing CIDM | Est. Time Left: 432s\n",
            "   ↪️ Pulling last 90 days of price data...\n",
            "   📌 Goal: Predict short-term direction and evaluate risk profile\n"
          ]
        },
        {
          "output_type": "stream",
          "name": "stderr",
          "text": [
            "WARNING:root:Attempt 1 failed for alpha_vantage with CIDM\n",
            "WARNING:root:Attempt 2 failed for alpha_vantage with CIDM\n",
            "ERROR:root:All attempts for alpha_vantage failed for CIDM\n",
            "WARNING:root:Error processing CIDM: The truth value of a Series is ambiguous. Use a.empty, a.bool(), a.item(), a.any() or a.all().\n"
          ]
        },
        {
          "output_type": "stream",
          "name": "stdout",
          "text": [
            "⏳ [52/67] Processing ZYME | Est. Time Left: 408s\n",
            "   ↪️ Pulling last 90 days of price data...\n",
            "   📌 Goal: Predict short-term direction and evaluate risk profile\n"
          ]
        },
        {
          "output_type": "stream",
          "name": "stderr",
          "text": [
            "WARNING:root:Attempt 1 failed for alpha_vantage with ZYME\n",
            "WARNING:root:Attempt 2 failed for alpha_vantage with ZYME\n",
            "ERROR:root:All attempts for alpha_vantage failed for ZYME\n",
            "WARNING:root:Error processing ZYME: The truth value of a Series is ambiguous. Use a.empty, a.bool(), a.item(), a.any() or a.all().\n"
          ]
        },
        {
          "output_type": "stream",
          "name": "stdout",
          "text": [
            "⏳ [53/67] Processing DTCK | Est. Time Left: 384s\n",
            "   ↪️ Pulling last 90 days of price data...\n",
            "   📌 Goal: Predict short-term direction and evaluate risk profile\n"
          ]
        },
        {
          "output_type": "stream",
          "name": "stderr",
          "text": [
            "WARNING:root:Attempt 1 failed for alpha_vantage with DTCK\n",
            "WARNING:root:Attempt 2 failed for alpha_vantage with DTCK\n",
            "ERROR:root:All attempts for alpha_vantage failed for DTCK\n",
            "WARNING:root:Error processing DTCK: The truth value of a Series is ambiguous. Use a.empty, a.bool(), a.item(), a.any() or a.all().\n"
          ]
        },
        {
          "output_type": "stream",
          "name": "stdout",
          "text": [
            "⏳ [54/67] Processing EMX | Est. Time Left: 358s\n",
            "   ↪️ Pulling last 90 days of price data...\n",
            "   📌 Goal: Predict short-term direction and evaluate risk profile\n"
          ]
        },
        {
          "output_type": "stream",
          "name": "stderr",
          "text": [
            "WARNING:root:Attempt 1 failed for alpha_vantage with EMX\n",
            "WARNING:root:Attempt 2 failed for alpha_vantage with EMX\n",
            "ERROR:root:All attempts for alpha_vantage failed for EMX\n",
            "WARNING:root:Error processing EMX: The truth value of a Series is ambiguous. Use a.empty, a.bool(), a.item(), a.any() or a.all().\n"
          ]
        },
        {
          "output_type": "stream",
          "name": "stdout",
          "text": [
            "⏳ [55/67] Processing SUNS | Est. Time Left: 333s\n",
            "   ↪️ Pulling last 90 days of price data...\n",
            "   📌 Goal: Predict short-term direction and evaluate risk profile\n"
          ]
        },
        {
          "output_type": "stream",
          "name": "stderr",
          "text": [
            "WARNING:root:Attempt 1 failed for alpha_vantage with SUNS\n",
            "WARNING:root:Attempt 2 failed for alpha_vantage with SUNS\n",
            "ERROR:root:All attempts for alpha_vantage failed for SUNS\n",
            "WARNING:root:Error processing SUNS: The truth value of a Series is ambiguous. Use a.empty, a.bool(), a.item(), a.any() or a.all().\n"
          ]
        },
        {
          "output_type": "stream",
          "name": "stdout",
          "text": [
            "⏳ [56/67] Processing RVYL | Est. Time Left: 307s\n",
            "   ↪️ Pulling last 90 days of price data...\n",
            "   📌 Goal: Predict short-term direction and evaluate risk profile\n"
          ]
        },
        {
          "output_type": "stream",
          "name": "stderr",
          "text": [
            "WARNING:root:Attempt 1 failed for alpha_vantage with RVYL\n",
            "WARNING:root:Attempt 2 failed for alpha_vantage with RVYL\n",
            "ERROR:root:All attempts for alpha_vantage failed for RVYL\n",
            "WARNING:root:Error processing RVYL: The truth value of a Series is ambiguous. Use a.empty, a.bool(), a.item(), a.any() or a.all().\n"
          ]
        },
        {
          "output_type": "stream",
          "name": "stdout",
          "text": [
            "⏳ [57/67] Processing GOOGL | Est. Time Left: 281s\n",
            "   ↪️ Pulling last 90 days of price data...\n",
            "   📌 Goal: Predict short-term direction and evaluate risk profile\n"
          ]
        },
        {
          "output_type": "stream",
          "name": "stderr",
          "text": [
            "WARNING:root:Attempt 1 failed for alpha_vantage with GOOGL\n",
            "WARNING:root:Attempt 2 failed for alpha_vantage with GOOGL\n",
            "ERROR:root:All attempts for alpha_vantage failed for GOOGL\n",
            "WARNING:root:Error processing GOOGL: The truth value of a Series is ambiguous. Use a.empty, a.bool(), a.item(), a.any() or a.all().\n"
          ]
        },
        {
          "output_type": "stream",
          "name": "stdout",
          "text": [
            "⏳ [58/67] Processing TARA | Est. Time Left: 254s\n",
            "   ↪️ Pulling last 90 days of price data...\n",
            "   📌 Goal: Predict short-term direction and evaluate risk profile\n"
          ]
        },
        {
          "output_type": "stream",
          "name": "stderr",
          "text": [
            "WARNING:root:Attempt 1 failed for alpha_vantage with TARA\n",
            "WARNING:root:Attempt 2 failed for alpha_vantage with TARA\n",
            "ERROR:root:All attempts for alpha_vantage failed for TARA\n",
            "WARNING:root:Error processing TARA: The truth value of a Series is ambiguous. Use a.empty, a.bool(), a.item(), a.any() or a.all().\n"
          ]
        },
        {
          "output_type": "stream",
          "name": "stdout",
          "text": [
            "⏳ [59/67] Processing SOLO | Est. Time Left: 227s\n",
            "   ↪️ Pulling last 90 days of price data...\n",
            "   📌 Goal: Predict short-term direction and evaluate risk profile\n"
          ]
        },
        {
          "output_type": "stream",
          "name": "stderr",
          "text": [
            "WARNING:root:Attempt 1 failed for alpha_vantage with SOLO\n",
            "WARNING:root:Attempt 2 failed for alpha_vantage with SOLO\n",
            "ERROR:root:All attempts for alpha_vantage failed for SOLO\n",
            "WARNING:root:Attempt 1 failed for tiingo with SOLO\n",
            "WARNING:root:Attempt 2 failed for tiingo with SOLO\n",
            "ERROR:root:All attempts for tiingo failed for SOLO\n",
            "WARNING:root:finnhub attempt 1 failed for SOLO: 'o'\n",
            "WARNING:root:finnhub attempt 2 failed for SOLO: 'o'\n",
            "ERROR:root:All attempts for finnhub failed for SOLO\n",
            "WARNING:root:Attempt 1 failed for polygon with SOLO\n",
            "WARNING:root:Attempt 2 failed for polygon with SOLO\n",
            "ERROR:root:All attempts for polygon failed for SOLO\n",
            "WARNING:root:marketstack attempt 1 failed for SOLO: 'index'\n",
            "WARNING:root:marketstack attempt 2 failed for SOLO: 'index'\n",
            "ERROR:root:All attempts for marketstack failed for SOLO\n",
            "WARNING:root:quandl attempt 1 failed for SOLO: Expecting value: line 1 column 1 (char 0)\n",
            "WARNING:root:quandl attempt 2 failed for SOLO: Expecting value: line 1 column 1 (char 0)\n",
            "ERROR:root:All attempts for quandl failed for SOLO\n",
            "ERROR:yfinance:$SOLO: possibly delisted; no timezone found\n",
            "WARNING:root:Attempt 1 failed for yahoo with SOLO\n",
            "ERROR:yfinance:$SOLO: possibly delisted; no timezone found\n",
            "WARNING:root:Attempt 2 failed for yahoo with SOLO\n",
            "ERROR:root:All attempts for yahoo failed for SOLO\n",
            "ERROR:root:All APIs failed for SOLO. Total failures: 2\n"
          ]
        },
        {
          "output_type": "stream",
          "name": "stdout",
          "text": [
            "⏳ [60/67] Processing OTRK | Est. Time Left: 216s\n",
            "   ↪️ Pulling last 90 days of price data...\n",
            "   📌 Goal: Predict short-term direction and evaluate risk profile\n"
          ]
        },
        {
          "output_type": "stream",
          "name": "stderr",
          "text": [
            "WARNING:root:Attempt 1 failed for alpha_vantage with OTRK\n",
            "WARNING:root:Attempt 2 failed for alpha_vantage with OTRK\n",
            "ERROR:root:All attempts for alpha_vantage failed for OTRK\n",
            "WARNING:root:Error processing OTRK: The truth value of a Series is ambiguous. Use a.empty, a.bool(), a.item(), a.any() or a.all().\n"
          ]
        },
        {
          "output_type": "stream",
          "name": "stdout",
          "text": [
            "⏳ [61/67] Processing GHG | Est. Time Left: 185s\n",
            "   ↪️ Pulling last 90 days of price data...\n",
            "   📌 Goal: Predict short-term direction and evaluate risk profile\n"
          ]
        },
        {
          "output_type": "stream",
          "name": "stderr",
          "text": [
            "WARNING:root:Attempt 1 failed for alpha_vantage with GHG\n",
            "WARNING:root:Attempt 2 failed for alpha_vantage with GHG\n",
            "ERROR:root:All attempts for alpha_vantage failed for GHG\n",
            "WARNING:root:Error processing GHG: The truth value of a Series is ambiguous. Use a.empty, a.bool(), a.item(), a.any() or a.all().\n"
          ]
        },
        {
          "output_type": "stream",
          "name": "stdout",
          "text": [
            "⏳ [62/67] Processing CVRX | Est. Time Left: 155s\n",
            "   ↪️ Pulling last 90 days of price data...\n",
            "   📌 Goal: Predict short-term direction and evaluate risk profile\n"
          ]
        },
        {
          "output_type": "stream",
          "name": "stderr",
          "text": [
            "WARNING:root:Attempt 1 failed for alpha_vantage with CVRX\n",
            "WARNING:root:Attempt 2 failed for alpha_vantage with CVRX\n",
            "ERROR:root:All attempts for alpha_vantage failed for CVRX\n",
            "WARNING:root:Error processing CVRX: The truth value of a Series is ambiguous. Use a.empty, a.bool(), a.item(), a.any() or a.all().\n"
          ]
        },
        {
          "output_type": "stream",
          "name": "stdout",
          "text": [
            "⏳ [63/67] Processing XOM | Est. Time Left: 124s\n",
            "   ↪️ Pulling last 90 days of price data...\n",
            "   📌 Goal: Predict short-term direction and evaluate risk profile\n"
          ]
        },
        {
          "output_type": "stream",
          "name": "stderr",
          "text": [
            "WARNING:root:Attempt 1 failed for alpha_vantage with XOM\n",
            "WARNING:root:Attempt 2 failed for alpha_vantage with XOM\n",
            "ERROR:root:All attempts for alpha_vantage failed for XOM\n",
            "WARNING:root:Error processing XOM: The truth value of a Series is ambiguous. Use a.empty, a.bool(), a.item(), a.any() or a.all().\n"
          ]
        },
        {
          "output_type": "stream",
          "name": "stdout",
          "text": [
            "⏳ [64/67] Processing IDEX | Est. Time Left: 93s\n",
            "   ↪️ Pulling last 90 days of price data...\n",
            "   📌 Goal: Predict short-term direction and evaluate risk profile\n"
          ]
        },
        {
          "output_type": "stream",
          "name": "stderr",
          "text": [
            "WARNING:root:Attempt 1 failed for alpha_vantage with IDEX\n",
            "WARNING:root:Attempt 2 failed for alpha_vantage with IDEX\n",
            "ERROR:root:All attempts for alpha_vantage failed for IDEX\n",
            "WARNING:root:Error processing IDEX: The truth value of a Series is ambiguous. Use a.empty, a.bool(), a.item(), a.any() or a.all().\n"
          ]
        },
        {
          "output_type": "stream",
          "name": "stdout",
          "text": [
            "⏳ [65/67] Processing MSFT | Est. Time Left: 62s\n",
            "   ↪️ Pulling last 90 days of price data...\n",
            "   📌 Goal: Predict short-term direction and evaluate risk profile\n"
          ]
        },
        {
          "output_type": "stream",
          "name": "stderr",
          "text": [
            "WARNING:root:Attempt 1 failed for alpha_vantage with MSFT\n",
            "WARNING:root:Attempt 2 failed for alpha_vantage with MSFT\n",
            "ERROR:root:All attempts for alpha_vantage failed for MSFT\n",
            "WARNING:root:Error processing MSFT: The truth value of a Series is ambiguous. Use a.empty, a.bool(), a.item(), a.any() or a.all().\n"
          ]
        },
        {
          "output_type": "stream",
          "name": "stdout",
          "text": [
            "⏳ [66/67] Processing VREX | Est. Time Left: 31s\n",
            "   ↪️ Pulling last 90 days of price data...\n",
            "   📌 Goal: Predict short-term direction and evaluate risk profile\n"
          ]
        },
        {
          "output_type": "stream",
          "name": "stderr",
          "text": [
            "WARNING:root:Attempt 1 failed for alpha_vantage with VREX\n",
            "WARNING:root:Attempt 2 failed for alpha_vantage with VREX\n",
            "ERROR:root:All attempts for alpha_vantage failed for VREX\n",
            "WARNING:root:Error processing VREX: The truth value of a Series is ambiguous. Use a.empty, a.bool(), a.item(), a.any() or a.all().\n"
          ]
        },
        {
          "output_type": "stream",
          "name": "stdout",
          "text": [
            "⏳ [67/67] Processing BLK | Est. Time Left: 0s\n",
            "   ↪️ Pulling last 90 days of price data...\n",
            "   📌 Goal: Predict short-term direction and evaluate risk profile\n"
          ]
        },
        {
          "output_type": "stream",
          "name": "stderr",
          "text": [
            "WARNING:root:Attempt 1 failed for alpha_vantage with BLK\n",
            "WARNING:root:Attempt 2 failed for alpha_vantage with BLK\n",
            "ERROR:root:All attempts for alpha_vantage failed for BLK\n",
            "WARNING:root:Error processing BLK: The truth value of a Series is ambiguous. Use a.empty, a.bool(), a.item(), a.any() or a.all().\n"
          ]
        },
        {
          "output_type": "stream",
          "name": "stdout",
          "text": [
            "✅ Stock processing complete. Ranking results...\n",
            "\n",
            "======================================\n",
            "Top Low-Price Stock Predictions (under $8.0):\n",
            "======================================\n",
            "\n",
            "1. NAK:\n",
            "   Current Price: $5.10\n",
            "   Predicted Price: $4.78\n",
            "   Movement: DOWN by 6.32%\n",
            "   Volatility: 0.8097\n",
            "   Sharpe Ratio: 3.7207\n",
            "   Max Drawdown: -0.2945\n",
            "   Risk Category: Extreme Risk\n",
            "\n",
            "\n",
            "Explanation for NAK Recommendation:\n",
            "1. 🧠 High School Level: This stock's price has been going up steadily. Our model thinks it will keep going up, and it's not very risky compared to others.\n",
            "2. 👨‍💻 Technical (Coders): Linear regression on NAK's closing price showed a positive slope. This trend, extrapolated, suggests a future increase.\n",
            "3. 📊 Statistical Insight: We regressed closing prices (y) on time (t), observed a significant upward trend.\n",
            "   With a Sharpe ratio of 3.72 and drawdown of -0.29, this asset shows favorable risk-adjusted return.\n",
            "   Risk category: Extreme Risk\n",
            "\n",
            "Potential Enhancements:\n",
            "- Replace regression with XGBoost using volume, RSI, and news sentiment\n",
            "- Add earnings surprise filter and insider trade flag\n",
            "\n",
            "\n",
            "2. TGB:\n",
            "   Current Price: $1.38\n",
            "   Predicted Price: $1.46\n",
            "   Movement: UP by 5.44%\n",
            "   Volatility: 1.0998\n",
            "   Sharpe Ratio: 0.4783\n",
            "   Max Drawdown: -0.2754\n",
            "   Risk Category: High Risk\n",
            "\n",
            "\n",
            "Explanation for TGB Recommendation:\n",
            "1. 🧠 High School Level: This stock's price has been going up steadily. Our model thinks it will keep going up, and it's not very risky compared to others.\n",
            "2. 👨‍💻 Technical (Coders): Linear regression on TGB's closing price showed a positive slope. This trend, extrapolated, suggests a future increase.\n",
            "3. 📊 Statistical Insight: We regressed closing prices (y) on time (t), observed a significant upward trend.\n",
            "   With a Sharpe ratio of 0.48 and drawdown of -0.28, this asset shows favorable risk-adjusted return.\n",
            "   Risk category: High Risk\n",
            "\n",
            "Potential Enhancements:\n",
            "- Replace regression with XGBoost using volume, RSI, and news sentiment\n",
            "- Add earnings surprise filter and insider trade flag\n",
            "\n",
            "\n",
            "3. NGD:\n",
            "   Current Price: $4.82\n",
            "   Predicted Price: $4.15\n",
            "   Movement: DOWN by 13.99%\n",
            "   Volatility: 0.4981\n",
            "   Sharpe Ratio: -1.4326\n",
            "   Max Drawdown: -0.3511\n",
            "   Risk Category: High Risk\n",
            "\n",
            "\n",
            "Explanation for NGD Recommendation:\n",
            "1. 🧠 High School Level: This stock's price has been going up steadily. Our model thinks it will keep going up, and it's not very risky compared to others.\n",
            "2. 👨‍💻 Technical (Coders): Linear regression on NGD's closing price showed a positive slope. This trend, extrapolated, suggests a future increase.\n",
            "3. 📊 Statistical Insight: We regressed closing prices (y) on time (t), observed a significant upward trend.\n",
            "   With a Sharpe ratio of -1.43 and drawdown of -0.35, this asset shows favorable risk-adjusted return.\n",
            "   Risk category: High Risk\n",
            "\n",
            "Potential Enhancements:\n",
            "- Replace regression with XGBoost using volume, RSI, and news sentiment\n",
            "- Add earnings surprise filter and insider trade flag\n",
            "\n",
            "\n",
            "4. CRVO:\n",
            "   Current Price: $1.00\n",
            "   Predicted Price: $0.97\n",
            "   Movement: DOWN by 2.88%\n",
            "   Volatility: 1.2393\n",
            "   Sharpe Ratio: 0.4261\n",
            "   Max Drawdown: -0.4712\n",
            "   Risk Category: High Risk\n",
            "\n",
            "\n",
            "Explanation for CRVO Recommendation:\n",
            "1. 🧠 High School Level: This stock's price has been going up steadily. Our model thinks it will keep going up, and it's not very risky compared to others.\n",
            "2. 👨‍💻 Technical (Coders): Linear regression on CRVO's closing price showed a positive slope. This trend, extrapolated, suggests a future increase.\n",
            "3. 📊 Statistical Insight: We regressed closing prices (y) on time (t), observed a significant upward trend.\n",
            "   With a Sharpe ratio of 0.43 and drawdown of -0.47, this asset shows favorable risk-adjusted return.\n",
            "   Risk category: High Risk\n",
            "\n",
            "Potential Enhancements:\n",
            "- Replace regression with XGBoost using volume, RSI, and news sentiment\n",
            "- Add earnings surprise filter and insider trade flag\n",
            "\n",
            "\n",
            "5. CPRX:\n",
            "   Current Price: $4.79\n",
            "   Predicted Price: $4.23\n",
            "   Movement: DOWN by 11.70%\n",
            "   Volatility: 0.9653\n",
            "   Sharpe Ratio: -0.6110\n",
            "   Max Drawdown: -0.3821\n",
            "   Risk Category: High Risk\n",
            "\n",
            "\n",
            "Explanation for CPRX Recommendation:\n",
            "1. 🧠 High School Level: This stock's price has been going up steadily. Our model thinks it will keep going up, and it's not very risky compared to others.\n",
            "2. 👨‍💻 Technical (Coders): Linear regression on CPRX's closing price showed a positive slope. This trend, extrapolated, suggests a future increase.\n",
            "3. 📊 Statistical Insight: We regressed closing prices (y) on time (t), observed a significant upward trend.\n",
            "   With a Sharpe ratio of -0.61 and drawdown of -0.38, this asset shows favorable risk-adjusted return.\n",
            "   Risk category: High Risk\n",
            "\n",
            "Potential Enhancements:\n",
            "- Replace regression with XGBoost using volume, RSI, and news sentiment\n",
            "- Add earnings surprise filter and insider trade flag\n",
            "\n",
            "\n",
            "6. BZUN:\n",
            "   Current Price: $6.90\n",
            "   Predicted Price: $6.79\n",
            "   Movement: DOWN by 1.62%\n",
            "   Volatility: 0.9313\n",
            "   Sharpe Ratio: -1.3895\n",
            "   Max Drawdown: -0.4601\n",
            "   Risk Category: Very High Risk\n",
            "\n",
            "\n",
            "Explanation for BZUN Recommendation:\n",
            "1. 🧠 High School Level: This stock's price has been going up steadily. Our model thinks it will keep going up, and it's not very risky compared to others.\n",
            "2. 👨‍💻 Technical (Coders): Linear regression on BZUN's closing price showed a positive slope. This trend, extrapolated, suggests a future increase.\n",
            "3. 📊 Statistical Insight: We regressed closing prices (y) on time (t), observed a significant upward trend.\n",
            "   With a Sharpe ratio of -1.39 and drawdown of -0.46, this asset shows favorable risk-adjusted return.\n",
            "   Risk category: Very High Risk\n",
            "\n",
            "Potential Enhancements:\n",
            "- Replace regression with XGBoost using volume, RSI, and news sentiment\n",
            "- Add earnings surprise filter and insider trade flag\n",
            "\n",
            "\n",
            "7. SNDL:\n",
            "   Current Price: $3.53\n",
            "   Predicted Price: $2.35\n",
            "   Movement: DOWN by 33.47%\n",
            "   Volatility: 1.1613\n",
            "   Sharpe Ratio: -2.5286\n",
            "   Max Drawdown: -0.7285\n",
            "   Risk Category: Extreme Risk\n",
            "\n",
            "\n",
            "Explanation for SNDL Recommendation:\n",
            "1. 🧠 High School Level: This stock's price has been going up steadily. Our model thinks it will keep going up, and it's not very risky compared to others.\n",
            "2. 👨‍💻 Technical (Coders): Linear regression on SNDL's closing price showed a positive slope. This trend, extrapolated, suggests a future increase.\n",
            "3. 📊 Statistical Insight: We regressed closing prices (y) on time (t), observed a significant upward trend.\n",
            "   With a Sharpe ratio of -2.53 and drawdown of -0.73, this asset shows favorable risk-adjusted return.\n",
            "   Risk category: Extreme Risk\n",
            "\n",
            "Potential Enhancements:\n",
            "- Replace regression with XGBoost using volume, RSI, and news sentiment\n",
            "- Add earnings surprise filter and insider trade flag\n",
            "\n",
            "\n",
            "⚠️ Warning: Encountered 2 failures across symbols: {'ONTX', 'SOLO'}\n",
            "✅ Analysis complete. Results above.\n"
          ]
        }
      ]
    }
  ]
}